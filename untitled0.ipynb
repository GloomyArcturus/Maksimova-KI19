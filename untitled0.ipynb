{
  "nbformat": 4,
  "nbformat_minor": 0,
  "metadata": {
    "colab": {
      "name": "Untitled0.ipynb",
      "provenance": [],
      "collapsed_sections": [],
      "authorship_tag": "ABX9TyOwe98u0spnBaUvG6QwTiek"
    },
    "kernelspec": {
      "name": "python3",
      "display_name": "Python 3"
    }
  },
  "cells": [
    {
      "cell_type": "markdown",
      "metadata": {
        "id": "AaQVdxCkQvSJ"
      },
      "source": [
        "Максимова Юлия Сергеевна, КИ19-20Б"
      ]
    },
    {
      "cell_type": "code",
      "metadata": {
        "colab": {
          "base_uri": "https://localhost:8080/"
        },
        "id": "qH7NlOUOQ5sb",
        "outputId": "5a9ef50d-9e8d-4eed-cc55-de5eaa215e48"
      },
      "source": [
        "print ('Привет, мир!')"
      ],
      "execution_count": 1,
      "outputs": [
        {
          "output_type": "stream",
          "text": [
            "Привет, мир!\n"
          ],
          "name": "stdout"
        }
      ]
    }
  ]
}