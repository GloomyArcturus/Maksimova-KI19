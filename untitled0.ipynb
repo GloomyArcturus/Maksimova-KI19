{
  "nbformat": 4,
  "nbformat_minor": 0,
  "metadata": {
    "colab": {
      "name": "Untitled0.ipynb",
      "provenance": [],
      "collapsed_sections": [],
      "authorship_tag": "ABX9TyOwe98u0spnBaUvG6QwTiek",
      "include_colab_link": true
    },
    "kernelspec": {
      "name": "python3",
      "display_name": "Python 3"
    }
  },
  "cells": [
    {
      "cell_type": "markdown",
      "metadata": {
        "id": "view-in-github",
        "colab_type": "text"
      },
      "source": [
        "<a href=\"https://colab.research.google.com/gist/GloomyArcturus/3bb12bc3629425440f9e71f9796f5e52/untitled0.ipynb\" target=\"_parent\"><img src=\"https://colab.research.google.com/assets/colab-badge.svg\" alt=\"Open In Colab\"/></a>"
      ]
    },
    {
      "cell_type": "markdown",
      "metadata": {
        "id": "AaQVdxCkQvSJ"
      },
      "source": [
        "Максимова Юлия Сергеевна, КИ19-20Б"
      ]
    },
    {
      "cell_type": "code",
      "metadata": {
        "colab": {
          "base_uri": "https://localhost:8080/"
        },
        "id": "qH7NlOUOQ5sb",
        "outputId": "5a9ef50d-9e8d-4eed-cc55-de5eaa215e48"
      },
      "source": [
        "print ('Привет, мир!')"
      ],
      "execution_count": 1,
      "outputs": [
        {
          "output_type": "stream",
          "text": [
            "Привет, мир!\n"
          ],
          "name": "stdout"
        }
      ]
    }
  ]
}